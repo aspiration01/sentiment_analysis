{
 "cells": [
  {
   "cell_type": "code",
   "execution_count": 14,
   "metadata": {},
   "outputs": [],
   "source": [
    "import pandas as pd\n",
    "import numpy as np\n",
    "import re\n",
    "import joblib\n",
    "import matplotlib.pyplot as plt\n",
    "import seaborn as sns\n",
    "from pymorphy2 import MorphAnalyzer  \n",
    "from nltk.corpus import stopwords\n",
    "from deeppavlov.models.embedders.elmo_embedder import ELMoEmbedder\n",
    "from sklearn.metrics import f1_score\n",
    "from sklearn.metrics import classification_report\n",
    "from sklearn.metrics import accuracy_score  \n",
    "from sklearn.metrics import confusion_matrix\n",
    "from sklearn.model_selection import train_test_split"
   ]
  },
  {
   "cell_type": "code",
   "execution_count": 3,
   "metadata": {},
   "outputs": [],
   "source": [
    "import tensorflow as tf\n",
    "from tensorflow import keras\n",
    "from tensorflow.keras.models import Sequential, Model\n",
    "from tensorflow.keras import layers\n",
    "from tensorflow.keras.callbacks import EarlyStopping  \n",
    "from tensorflow.keras.layers import Dense, Dropout, Activation"
   ]
  },
  {
   "cell_type": "markdown",
   "metadata": {},
   "source": [
    "# Загрузка данных"
   ]
  },
  {
   "cell_type": "code",
   "execution_count": 4,
   "metadata": {},
   "outputs": [],
   "source": [
    "df = pd.read_csv(\"data/women-clothing-accessories.3-class.balanced.csv\", sep='\\t')"
   ]
  },
  {
   "cell_type": "markdown",
   "metadata": {},
   "source": [
    "# Предобработка текстов"
   ]
  },
  {
   "cell_type": "code",
   "execution_count": 5,
   "metadata": {},
   "outputs": [],
   "source": [
    "def preprocessing(df, column, cache):\n",
    "    #токенизация и удаление символов\n",
    "    func = lambda text: re.split('-|\\s', clean_text(text))\n",
    "    df.iloc[:, column] = [func(text) for text in df.iloc[:, column].values]\n",
    "    #удаление отдельностоящих чисел\n",
    "    func = lambda tokens: [token for token in tokens if token.isdigit() == False]\n",
    "    df.iloc[:, column] = [func(tokens) for tokens in df.iloc[:, column].values]\n",
    "    #удаление слов длины меньше 3\n",
    "    df.iloc[:, column] = [del_word(tokens) for tokens in df.iloc[:, column].values]\n",
    "    #удаление стоп слов\n",
    "    stop = set(stopwords.words('russian'))\n",
    "    exceptions = {\"ничего\", \"хорошо\", \"никогда\", \"лучше\", \"конечно\", \"совсем\", \"нельзя\", \"больше\", \"наконец\", \"более\", \"не\"}\n",
    "    stop = stop.difference(exceptions)\n",
    "    func = lambda tokens:[token for token in tokens if token not in stop]\n",
    "    df.iloc[:, column] = [func(tokens) for tokens in df.iloc[:, column].values]\n",
    "#     #лемматизация\n",
    "#     lemmatizer = MorphAnalyzer()\n",
    "#     df.iloc[:, column] = [to_lemmatize(lemmatizer, tokens, cache) for tokens in df.iloc[:, column].values]\n",
    "    return df\n",
    "\n",
    "def clean_text(text):\n",
    "    text = re.sub('[,*<>?.]', ' ', text.lower())\n",
    "    text = re.sub('\\s\\s+', ' ', text.strip())\n",
    "    return text\n",
    "\n",
    "def del_word(tokens):\n",
    "    return [token for token in tokens if (len(token) >= 3 or token == 'не')]\n",
    "\n",
    "def to_lemmatize(lemmatizer, tokens, cache):\n",
    "    lemmas = []\n",
    "    for token in tokens:\n",
    "        if token not in cache:\n",
    "            lemma = lemmatizer.normal_forms(token)[0]\n",
    "            cache[token] = lemma\n",
    "        lemmas.append(cache[token])\n",
    "    return lemmas\n",
    "\n",
    "column = 0\n",
    "cache = {}\n",
    "df = preprocessing(df, column, cache)"
   ]
  },
  {
   "cell_type": "markdown",
   "metadata": {},
   "source": [
    "# Обучение эмбеддингов"
   ]
  },
  {
   "cell_type": "code",
   "execution_count": null,
   "metadata": {},
   "outputs": [],
   "source": [
    "MODELS_PATH = \"models/embedder_deppavlov\"\n",
    "elmo = ELMoEmbedder(MODELS_PATH)\n",
    "embeddings = elmo(list(df[\"review\"]))"
   ]
  },
  {
   "cell_type": "markdown",
   "metadata": {},
   "source": [
    "загрузка обученных эмбеддингов"
   ]
  },
  {
   "cell_type": "code",
   "execution_count": 6,
   "metadata": {},
   "outputs": [],
   "source": [
    "embeddings = joblib.load(\"data/embeddings.joblib\")\n",
    "embeddings = [list(e) for e in embeddings]"
   ]
  },
  {
   "cell_type": "markdown",
   "metadata": {},
   "source": [
    "# Формирование признаков\n",
    "добавим к нашим эмбеддингам признаки, учитывающие смайлики в текстах"
   ]
  },
  {
   "cell_type": "code",
   "execution_count": 8,
   "metadata": {},
   "outputs": [],
   "source": [
    "def tf_encoding(emotions, text):\n",
    "    \n",
    "    vector = [0]*len(emotions)\n",
    "    index = 0\n",
    "    for symbol in emotions:\n",
    "        if symbol in text:\n",
    "            vector[index] = text.count(symbol)\n",
    "        index +=1\n",
    "    return vector\n",
    "\n",
    "df.iloc[:, column] = [\" \".join(tokens) for tokens in df.iloc[:, column].values]\n",
    "emotions = ['(', ')', '!']\n",
    "features = [tf_encoding(emotions, text) for text in df[\"review\"]]\n",
    "\n",
    "features_df = pd.DataFrame({'1':[], '2':[], '3':[]})\n",
    "features_df['1'] = [feature[0] for feature in features]\n",
    "features_df['2'] = [feature[1] for feature in features]\n",
    "features_df['3'] = [feature[2] for feature in features]\n",
    "\n",
    "features = [[x1, x2, x3] for x1, x2, x3 in zip(features_df['1'], \n",
    "                                               features_df['2'], \n",
    "                                               features_df['3'])]"
   ]
  },
  {
   "cell_type": "markdown",
   "metadata": {},
   "source": [
    "нормализация векторов признаков и их считывание"
   ]
  },
  {
   "cell_type": "code",
   "execution_count": 9,
   "metadata": {},
   "outputs": [],
   "source": [
    "features_df['1'] = (features_df['1'] - features_df['1'].min()) / (features_df['1'].max() - features_df['1'].min())\n",
    "features_df['2'] = (features_df['2'] - features_df['2'].min()) / (features_df['2'].max() - features_df['2'].min())\n",
    "features_df['3'] = (features_df['3'] - features_df['3'].min()) / (features_df['3'].max() - features_df['3'].min())\n",
    "\n",
    "features = [[x1, x2, x3] for x1, x2, x3 in zip(features_df['1'], features_df['2'], features_df['3'])]"
   ]
  },
  {
   "cell_type": "markdown",
   "metadata": {},
   "source": [
    "суммирование эмбеддингов с новыми признаками"
   ]
  },
  {
   "cell_type": "code",
   "execution_count": 10,
   "metadata": {},
   "outputs": [],
   "source": [
    "vectors = []\n",
    "for i in range(len(embeddings)):\n",
    "    vector = []\n",
    "    for j in range(len(embeddings[0])):\n",
    "        vector.append(embeddings[i][j])\n",
    "    for k in range(len(features[0])):\n",
    "        vector.append(features[i][k])\n",
    "    vectors.append(vector)"
   ]
  },
  {
   "cell_type": "markdown",
   "metadata": {},
   "source": [
    "# Подготвка обучающей выборки и ответов"
   ]
  },
  {
   "cell_type": "code",
   "execution_count": 12,
   "metadata": {},
   "outputs": [],
   "source": [
    "def encoding_Y(Y):\n",
    "    i = 0\n",
    "    while i < len(Y):\n",
    "        if Y[i] == \"positive\":\n",
    "            Y[i] = 2\n",
    "        elif Y[i] == \"negative\":\n",
    "            Y[i] = 0\n",
    "        else:\n",
    "            Y[i] = 1\n",
    "        i += 1  \n",
    "\n",
    "Y = df['sentiment']\n",
    "encoding_Y(Y)\n",
    "X = np.array(vectors)\n",
    "Y = np.array(Y)"
   ]
  },
  {
   "cell_type": "markdown",
   "metadata": {},
   "source": [
    "разбиение на обучающую выборку и тестовую"
   ]
  },
  {
   "cell_type": "code",
   "execution_count": 15,
   "metadata": {},
   "outputs": [],
   "source": [
    "x_train, x_test, y_train, y_test = train_test_split(X, Y, test_size=0.2, random_state=27)"
   ]
  },
  {
   "cell_type": "markdown",
   "metadata": {},
   "source": [
    "конвертация вектора ответов"
   ]
  },
  {
   "cell_type": "code",
   "execution_count": 16,
   "metadata": {},
   "outputs": [],
   "source": [
    "num_classes = 3\n",
    "y_train = keras.utils.to_categorical(y_train, num_classes)\n",
    "y_test = keras.utils.to_categorical(y_test, num_classes)"
   ]
  },
  {
   "cell_type": "markdown",
   "metadata": {},
   "source": [
    "# Построение и обучение модели"
   ]
  },
  {
   "cell_type": "code",
   "execution_count": 17,
   "metadata": {},
   "outputs": [
    {
     "name": "stdout",
     "output_type": "stream",
     "text": [
      "WARNING:tensorflow:From /usr/local/lib/python3.7/site-packages/tensorflow_core/python/ops/resource_variable_ops.py:1630: calling BaseResourceVariable.__init__ (from tensorflow.python.ops.resource_variable_ops) with constraint is deprecated and will be removed in a future version.\n",
      "Instructions for updating:\n",
      "If using Keras pass *_constraint arguments to layers.\n"
     ]
    }
   ],
   "source": [
    "model = Sequential()\n",
    "model.add(Dense(128, input_dim=1027, activation='relu'))\n",
    "model.add(Dropout(0.2))\n",
    "model.add(Dense(64, activation='relu'))\n",
    "model.add(Dropout(0.2))\n",
    "model.add(Dense(3, activation='softmax'))"
   ]
  },
  {
   "cell_type": "code",
   "execution_count": 18,
   "metadata": {},
   "outputs": [],
   "source": [
    "model.compile(loss='binary_crossentropy', optimizer='adam', metrics=['accuracy'])"
   ]
  },
  {
   "cell_type": "code",
   "execution_count": 26,
   "metadata": {},
   "outputs": [
    {
     "name": "stdout",
     "output_type": "stream",
     "text": [
      "Train on 57600 samples, validate on 14400 samples\n",
      "Epoch 1/5\n",
      "57600/57600 [==============================] - 5s 88us/sample - loss: 0.3512 - acc: 0.8333 - val_loss: 0.3690 - val_acc: 0.8201\n",
      "Epoch 2/5\n",
      "57600/57600 [==============================] - 5s 90us/sample - loss: 0.3467 - acc: 0.8359 - val_loss: 0.3686 - val_acc: 0.8242\n",
      "Epoch 3/5\n",
      "57600/57600 [==============================] - 5s 91us/sample - loss: 0.3435 - acc: 0.8379 - val_loss: 0.3638 - val_acc: 0.8255\n",
      "Epoch 4/5\n",
      "57600/57600 [==============================] - 5s 89us/sample - loss: 0.3381 - acc: 0.8409 - val_loss: 0.3588 - val_acc: 0.8283\n",
      "Epoch 5/5\n",
      "57600/57600 [==============================] - 5s 89us/sample - loss: 0.3347 - acc: 0.8424 - val_loss: 0.3618 - val_acc: 0.8269\n"
     ]
    }
   ],
   "source": [
    "early_stopping=EarlyStopping(monitor='val_loss')\n",
    "histoty = model.fit(x_train, y_train, batch_size=32, epochs=5, verbose=1, validation_split=0.2, callbacks=[early_stopping])"
   ]
  },
  {
   "cell_type": "markdown",
   "metadata": {},
   "source": [
    "# Оценка качества"
   ]
  },
  {
   "cell_type": "code",
   "execution_count": 27,
   "metadata": {},
   "outputs": [
    {
     "name": "stdout",
     "output_type": "stream",
     "text": [
      "18000/18000 [==============================] - 1s 34us/sample - loss: 0.3611 - acc: 0.8288\n"
     ]
    }
   ],
   "source": [
    "score = model.evaluate(x_test, y_test, batch_size=32, verbose=1)"
   ]
  },
  {
   "cell_type": "code",
   "execution_count": 30,
   "metadata": {},
   "outputs": [],
   "source": [
    "model.save(\"models/sentiment_analysis_model\")"
   ]
  },
  {
   "cell_type": "markdown",
   "metadata": {},
   "source": [
    "формирование тестовых предсказаний и предсказаний модели"
   ]
  },
  {
   "cell_type": "code",
   "execution_count": 28,
   "metadata": {},
   "outputs": [],
   "source": [
    "y = model.predict(x_test)\n",
    "y_pred = [np.where(row == row.max())[0][0] for row in y]\n",
    "y_test1 = []\n",
    "for row in y_test:\n",
    "    i = 0\n",
    "    for elem in row:\n",
    "        if elem:\n",
    "            y_test1.append(i)\n",
    "        i += 1"
   ]
  },
  {
   "cell_type": "markdown",
   "metadata": {},
   "source": [
    "оценка модели метрикой f1-score"
   ]
  },
  {
   "cell_type": "code",
   "execution_count": 29,
   "metadata": {},
   "outputs": [
    {
     "name": "stdout",
     "output_type": "stream",
     "text": [
      "0.7443251244978593\n"
     ]
    }
   ],
   "source": [
    "print(f1_score(y_test1, y_pred, average = \"weighted\"))"
   ]
  },
  {
   "cell_type": "markdown",
   "metadata": {},
   "source": [
    "оценка модели по классам"
   ]
  },
  {
   "cell_type": "code",
   "execution_count": 31,
   "metadata": {},
   "outputs": [
    {
     "name": "stdout",
     "output_type": "stream",
     "text": [
      "              precision    recall  f1-score   support\n",
      "\n",
      "    negative       0.73      0.73      0.73      5980\n",
      "     neutral       0.63      0.68      0.65      6053\n",
      "    positive       0.89      0.82      0.86      5967\n",
      "\n",
      "    accuracy                           0.74     18000\n",
      "   macro avg       0.75      0.74      0.74     18000\n",
      "weighted avg       0.75      0.74      0.74     18000\n",
      "\n"
     ]
    }
   ],
   "source": [
    "target_names = [\"negative\", \"neutral\", \"positive\"]\n",
    "print(classification_report(y_test1, y_pred, target_names=target_names))"
   ]
  },
  {
   "cell_type": "markdown",
   "metadata": {},
   "source": [
    "визуализация матрицы ошибок"
   ]
  },
  {
   "cell_type": "code",
   "execution_count": 32,
   "metadata": {},
   "outputs": [
    {
     "data": {
      "text/plain": [
       "Text(0.5, 15.0, 'Predicted class')"
      ]
     },
     "execution_count": 32,
     "metadata": {},
     "output_type": "execute_result"
    },
    {
     "data": {
      "image/png": "[encoded data removed]",
      "text/plain": [
       "<Figure size 432x288 with 2 Axes>"
      ]
     },
     "metadata": {
      "needs_background": "light"
     },
     "output_type": "display_data"
    }
   ],
   "source": [
    "cf_matrix = confusion_matrix(y_test1, y_pred)\n",
    "cf_matrix = cf_matrix / cf_matrix.astype(np.float).sum(axis=1)\n",
    "\n",
    "categories = [\"negative\", \"neutral\", \"positive\"]\n",
    "sns.heatmap(cf_matrix, annot=True, fmt='.2%', cmap='Blues', xticklabels=categories, yticklabels=categories)\n",
    "plt.ylabel('Actual class', fontsize=15)\n",
    "plt.xlabel('Predicted class', fontsize=15)"
   ]
  }
 ],
 "metadata": {
  "kernelspec": {
   "display_name": "Python 3",
   "language": "python",
   "name": "python3"
  },
  "language_info": {
   "codemirror_mode": {
    "name": "ipython",
    "version": 3
   },
   "file_extension": ".py",
   "mimetype": "text/x-python",
   "name": "python",
   "nbconvert_exporter": "python",
   "pygments_lexer": "ipython3",
   "version": "3.7.8"
  }
 },
 "nbformat": 4,
 "nbformat_minor": 4
}
